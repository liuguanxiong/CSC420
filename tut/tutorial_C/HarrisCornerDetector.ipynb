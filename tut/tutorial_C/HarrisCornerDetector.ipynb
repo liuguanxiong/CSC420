{
  "nbformat": 4,
  "nbformat_minor": 0,
  "metadata": {
    "colab": {
      "name": "HarrisCornerDetector.ipynb",
      "version": "0.3.2",
      "provenance": [],
      "collapsed_sections": []
    },
    "kernelspec": {
      "name": "python3",
      "display_name": "Python 3"
    }
  },
  "cells": [
    {
      "metadata": {
        "id": "TY4JHthpfohH",
        "colab_type": "code",
        "colab": {}
      },
      "cell_type": "code",
      "source": [
        "# Load the Drive helper and mount\n",
        "from google.colab import drive\n",
        "\n",
        "# This will prompt for authorization.\n",
        "drive.mount('/content/drive')"
      ],
      "execution_count": 0,
      "outputs": []
    },
    {
      "metadata": {
        "id": "W6xhnWkcfpCi",
        "colab_type": "code",
        "colab": {}
      },
      "cell_type": "code",
      "source": [
        "# install OpenCV\n",
        "!pip install opencv-python\n",
        "\n",
        "# the usual ...\n",
        "%matplotlib inline\n",
        "import matplotlib.pyplot as plt\n",
        "import cv2\n",
        "import numpy as np"
      ],
      "execution_count": 0,
      "outputs": []
    },
    {
      "metadata": {
        "id": "q5nYC3uxftNR",
        "colab_type": "code",
        "colab": {}
      },
      "cell_type": "code",
      "source": [
        "# read an image (make sure CavePainting.jpg is in the main folder in your Google Drive)\n",
        "img = cv2.imread('/content/drive/My Drive/window.jpg') # READS IN NUMPY ARRAY"
      ],
      "execution_count": 0,
      "outputs": []
    },
    {
      "metadata": {
        "id": "rsFEopuZf1Jf",
        "colab_type": "code",
        "colab": {}
      },
      "cell_type": "code",
      "source": [
        "# let's make a function\n",
        "def imshowBGR2RGB( im ):\n",
        "  img = cv2.cvtColor(im, cv2.COLOR_BGR2RGB)\n",
        "  plt.imshow(img)\n",
        "  plt.axis('off')\n",
        "  return"
      ],
      "execution_count": 0,
      "outputs": []
    },
    {
      "metadata": {
        "id": "IDohXvv5f-62",
        "colab_type": "code",
        "colab": {}
      },
      "cell_type": "code",
      "source": [
        "imshowBGR2RGB(img)"
      ],
      "execution_count": 0,
      "outputs": []
    },
    {
      "metadata": {
        "id": "gU0pwnAdgSFY",
        "colab_type": "code",
        "colab": {}
      },
      "cell_type": "code",
      "source": [
        "gray = cv2.cvtColor(img, cv2.COLOR_BGR2GRAY)\n",
        "blur = cv2.GaussianBlur(gray,(5,5),7)\n",
        "Ix = cv2.Sobel(blur, cv2.CV_64F, 1, 0, ksize=5)\n",
        "Iy = cv2.Sobel(blur, cv2.CV_64F, 0, 1, ksize=5)\n"
      ],
      "execution_count": 0,
      "outputs": []
    },
    {
      "metadata": {
        "id": "zSXIrvXUgmBW",
        "colab_type": "code",
        "colab": {}
      },
      "cell_type": "code",
      "source": [
        "plt.subplot(2,1,1), plt.imshow(Ix,cmap = 'gray')\n",
        "plt.subplot(2,1,2), plt.imshow(Iy,cmap = 'gray')\n"
      ],
      "execution_count": 0,
      "outputs": []
    },
    {
      "metadata": {
        "id": "4K6ZbuA3gth1",
        "colab_type": "code",
        "colab": {}
      },
      "cell_type": "code",
      "source": [
        "IxIy = np.multiply(Ix, Iy)\n",
        "Ix2 = np.multiply(Ix, Ix)\n",
        "Iy2 = np.multiply(Iy, Iy)"
      ],
      "execution_count": 0,
      "outputs": []
    },
    {
      "metadata": {
        "id": "ZgzeGFCphAKp",
        "colab_type": "code",
        "colab": {}
      },
      "cell_type": "code",
      "source": [
        "Ix2_blur = cv2.GaussianBlur(Ix2,(7,7),10) \n",
        "Iy2_blur = cv2.GaussianBlur(Iy2,(7,7),10) \n",
        "IxIy_blur = cv2.GaussianBlur(IxIy,(7,7),10) "
      ],
      "execution_count": 0,
      "outputs": []
    },
    {
      "metadata": {
        "id": "L4aljhuQh2_v",
        "colab_type": "code",
        "colab": {}
      },
      "cell_type": "code",
      "source": [
        "plt.subplot(1,3,1), plt.imshow(Ix2_blur,cmap = 'gray')\n",
        "plt.subplot(1,3,2), plt.imshow(Iy2_blur,cmap = 'gray')\n",
        "plt.subplot(1,3,3), plt.imshow(IxIy_blur,cmap = 'gray')\n"
      ],
      "execution_count": 0,
      "outputs": []
    },
    {
      "metadata": {
        "id": "v2tekMMuiEZs",
        "colab_type": "code",
        "colab": {}
      },
      "cell_type": "code",
      "source": [
        "det = np.multiply(Ix2_blur, Iy2_blur) - np.multiply(IxIy_blur,IxIy_blur)\n",
        "trace = Ix2_blur + Iy2_blur"
      ],
      "execution_count": 0,
      "outputs": []
    },
    {
      "metadata": {
        "id": "Rnu4CwqwizvX",
        "colab_type": "code",
        "colab": {}
      },
      "cell_type": "code",
      "source": [
        "plt.subplot(1,2,1), plt.imshow(det,cmap = 'gray')\n",
        "plt.subplot(1,2,2), plt.imshow(trace,cmap = 'gray')"
      ],
      "execution_count": 0,
      "outputs": []
    },
    {
      "metadata": {
        "id": "W5iTiGc6i_b2",
        "colab_type": "code",
        "colab": {}
      },
      "cell_type": "code",
      "source": [
        "R = det - 0.05 * np.multiply(trace,trace)\n",
        "plt.subplot(1,2,1), plt.imshow(img), plt.axis('off')\n",
        "plt.subplot(1,2,2), plt.imshow(R,cmap = 'gray'), plt.axis('off')"
      ],
      "execution_count": 0,
      "outputs": []
    }
  ]
}